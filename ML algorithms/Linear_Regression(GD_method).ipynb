{
 "cells": [
  {
   "cell_type": "code",
   "execution_count": 1,
   "metadata": {},
   "outputs": [],
   "source": [
    "import numpy as np\n",
    "import matplotlib.pyplot as plt\n",
    "from sklearn.linear_model import LinearRegression\n",
    "import random"
   ]
  },
  {
   "cell_type": "markdown",
   "metadata": {},
   "source": [
    "# Data Set"
   ]
  },
  {
   "cell_type": "code",
   "execution_count": 2,
   "metadata": {},
   "outputs": [],
   "source": [
    "x=[1.1,1.3,1.5,2,2.2,2.9,3,3.2,3.2,3.7,3.9,4,4,4.1,4.5,4.9,5.1,5.3,5.9,6,6.8,7.1,7.9,8.2,8.7,9,9.5,9.6,10.3,10.5]\n",
    "y=[39343,46205,37731,43525,39891,56642,60150,54445,64445,57189,63218,55794,56957,57081,61111,67938,66029,83088,\n",
    "   81363,93940,91738,98273,101302,113812,109431,105582,116969,112635,122391,121872]"
   ]
  },
  {
   "cell_type": "code",
   "execution_count": 3,
   "metadata": {},
   "outputs": [
    {
     "name": "stdout",
     "output_type": "stream",
     "text": [
      "[1.1, 1.3, 1.5, 2, 2.2, 2.9, 3, 3.2, 3.2, 3.7, 3.9, 4, 4, 4.1, 4.5, 4.9, 5.1, 5.3, 5.9, 6, 6.8, 7.1, 7.9, 8.2, 8.7, 9, 9.5, 9.6, 10.3, 10.5]\n",
      "30\n"
     ]
    }
   ],
   "source": [
    "print(x)\n",
    "print(len(y))"
   ]
  },
  {
   "cell_type": "code",
   "execution_count": 20,
   "metadata": {},
   "outputs": [],
   "source": [
    "def hypothesis(ar, m, c):\n",
    "    ar1=[m*(ix)+c for ix in ar]\n",
    "    return ar1"
   ]
  },
  {
   "cell_type": "code",
   "execution_count": 21,
   "metadata": {},
   "outputs": [],
   "source": [
    "#print(hypothesis(x,1,1))"
   ]
  },
  {
   "cell_type": "code",
   "execution_count": 22,
   "metadata": {},
   "outputs": [],
   "source": [
    "def m_gradient(X,Y,H):\n",
    "    m=[xi*(yi-hi) for xi,yi,hi in zip(X,Y,H)]\n",
    "    return (-2/len(X))*sum(m)"
   ]
  },
  {
   "cell_type": "code",
   "execution_count": 23,
   "metadata": {},
   "outputs": [],
   "source": [
    "def c_gradient(X,Y,H):\n",
    "    m=[(yi-hi) for yi,hi in zip(Y,H)]\n",
    "    return (-2/len(X))*sum(m)"
   ]
  },
  {
   "cell_type": "code",
   "execution_count": 24,
   "metadata": {},
   "outputs": [],
   "source": [
    "def error(Y,H):\n",
    "    er=[(yi-yh)**2 for yi,yh in zip(Y,H)]\n",
    "    avg=sum(er)/len(er)\n",
    "    return avg"
   ]
  },
  {
   "cell_type": "code",
   "execution_count": 25,
   "metadata": {},
   "outputs": [],
   "source": [
    "m=0\n",
    "c=0\n",
    "L=0.0001\n",
    "epochs=5000\n",
    "n=float(len(x))"
   ]
  },
  {
   "cell_type": "code",
   "execution_count": 26,
   "metadata": {},
   "outputs": [
    {
     "name": "stdout",
     "output_type": "stream",
     "text": [
      "12316.156641867428\n",
      "6477.677407783259\n"
     ]
    }
   ],
   "source": [
    "\n",
    "err=[]\n",
    "for i in range(epochs):\n",
    "    hy=hypothesis(x,m,c)\n",
    "    er=error(y,hy)\n",
    "    err.append(er)\n",
    "    D_m=m_gradient(x,y,hy)\n",
    "    D_c=c_gradient(x,y,hy)\n",
    "    m=m-(L*D_m)\n",
    "    c=c-(L*D_c)\n",
    "\n",
    "print(m)\n",
    "print(c)"
   ]
  },
  {
   "cell_type": "code",
   "execution_count": 27,
   "metadata": {},
   "outputs": [
    {
     "name": "stdout",
     "output_type": "stream",
     "text": [
      "84069.46425154805\n"
     ]
    }
   ],
   "source": [
    "xt=6.3\n",
    "hp = m*xt + c\n",
    "print(hp)"
   ]
  },
  {
   "cell_type": "code",
   "execution_count": 16,
   "metadata": {},
   "outputs": [
    {
     "data": {
      "image/png": "[encoded data removed]",
      "text/plain": [
       "<Figure size 432x288 with 1 Axes>"
      ]
     },
     "metadata": {
      "needs_background": "light"
     },
     "output_type": "display_data"
    }
   ],
   "source": [
    "hp=[m*i+c for i in x]\n",
    "\n",
    "plt.scatter(x, y, color = 'blue')\n",
    "plt.scatter(x, hp, color='red')  # regression line\n",
    "plt.plot(x, hp, color='green')  # regression line\n",
    "plt.title('Years_Experience  vs  Salary')\n",
    "plt.xlabel('x_Years_Experience')\n",
    "plt.ylabel('y_Salary')\n",
    "plt.show()"
   ]
  },
  {
   "cell_type": "code",
   "execution_count": null,
   "metadata": {},
   "outputs": [],
   "source": []
  }
 ],
 "metadata": {
  "kernelspec": {
   "display_name": "Python 3",
   "language": "python",
   "name": "python3"
  },
  "language_info": {
   "codemirror_mode": {
    "name": "ipython",
    "version": 3
   },
   "file_extension": ".py",
   "mimetype": "text/x-python",
   "name": "python",
   "nbconvert_exporter": "python",
   "pygments_lexer": "ipython3",
   "version": "3.7.1"
  }
 },
 "nbformat": 4,
 "nbformat_minor": 2
}
