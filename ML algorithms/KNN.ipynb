{
 "cells": [
  {
   "cell_type": "code",
   "execution_count": 36,
   "metadata": {},
   "outputs": [],
   "source": [
    "import numpy as np\n",
    "from sklearn.model_selection import train_test_split\n",
    "from sklearn import datasets\n",
    "from collections import Counter"
   ]
  },
  {
   "cell_type": "code",
   "execution_count": 37,
   "metadata": {},
   "outputs": [],
   "source": [
    "iris = datasets.load_iris() \n",
    "X = iris.data\n",
    "y = iris.target\n",
    "names = iris.target_names"
   ]
  },
  {
   "cell_type": "code",
   "execution_count": 38,
   "metadata": {},
   "outputs": [
    {
     "name": "stdout",
     "output_type": "stream",
     "text": [
      "[[5.1 3.5 1.4 0.2]\n",
      " [4.9 3.  1.4 0.2]\n",
      " [4.7 3.2 1.3 0.2]\n",
      " [4.6 3.1 1.5 0.2]\n",
      " [5.  3.6 1.4 0.2]]\n",
      "[0 0 0 0 0]\n",
      "['setosa' 'versicolor' 'virginica']\n"
     ]
    }
   ],
   "source": [
    "print(X[:5])\n",
    "print(y[:5])\n",
    "print(names)"
   ]
  },
  {
   "cell_type": "code",
   "execution_count": 39,
   "metadata": {},
   "outputs": [],
   "source": [
    "x_train,x_test,y_train,y_test=train_test_split(X,y,test_size=0.2)"
   ]
  },
  {
   "cell_type": "code",
   "execution_count": 40,
   "metadata": {},
   "outputs": [
    {
     "name": "stdout",
     "output_type": "stream",
     "text": [
      "120\n",
      "30\n",
      "120\n",
      "30\n"
     ]
    }
   ],
   "source": [
    "print(len(x_train))\n",
    "print(len(x_test))\n",
    "print(len(y_train))\n",
    "print(len(y_test))\n",
    "#print(x_test[:10])"
   ]
  },
  {
   "cell_type": "code",
   "execution_count": 41,
   "metadata": {},
   "outputs": [],
   "source": [
    "def euclidean(x, x2):\n",
    "    sum=0\n",
    "    for ix,ix2 in zip(x,x2):\n",
    "        sum+=(ix-ix2)**2\n",
    "    return np.sqrt(sum)"
   ]
  },
  {
   "cell_type": "code",
   "execution_count": 42,
   "metadata": {},
   "outputs": [],
   "source": [
    "#euclidean([0,0], [3,4])"
   ]
  },
  {
   "cell_type": "code",
   "execution_count": 43,
   "metadata": {},
   "outputs": [],
   "source": [
    "#xt=[5.1, 3., 4.2, 1.5]\n",
    "xt=[1.0 ,2.0 ,3.0, 4.0]"
   ]
  },
  {
   "cell_type": "code",
   "execution_count": 44,
   "metadata": {},
   "outputs": [],
   "source": [
    "dist={}\n",
    "for i, x in enumerate(x_train):\n",
    "    ed=euclidean(x, xt)\n",
    "    dist[i]=ed\n"
   ]
  },
  {
   "cell_type": "code",
   "execution_count": 45,
   "metadata": {},
   "outputs": [],
   "source": [
    "#print(dist)"
   ]
  },
  {
   "cell_type": "code",
   "execution_count": 46,
   "metadata": {},
   "outputs": [],
   "source": [
    "sorted_d = sorted(dist.items(), key=lambda kv: kv[1])"
   ]
  },
  {
   "cell_type": "code",
   "execution_count": 47,
   "metadata": {
    "scrolled": true
   },
   "outputs": [
    {
     "name": "stdout",
     "output_type": "stream",
     "text": [
      "[(118, 4.9457052075512955), (73, 5.017967716117751), (86, 5.046781152378217), (111, 5.06951674225463), (29, 5.350700888668698), (6, 5.365631370118525), (34, 5.372150407425317), (61, 5.377731863899501), (63, 5.419409561935692), (80, 5.423098745182499), (119, 5.427706698044765), (117, 5.442425929675111), (69, 5.4671747731346585), (81, 5.468089245796927), (89, 5.507267925205746), (35, 5.508175741568165), (40, 5.511805511808268), (44, 5.514526271584895), (10, 5.534437640808684), (1, 5.537147279962851), (23, 5.55517776493246), (108, 5.5830099408831435), (56, 5.624055476255546), (71, 5.629387178015028), (88, 5.636488268416781), (18, 5.661271941887264), (21, 5.661271941887264), (57, 5.6780278266313555), (82, 5.680668974689513), (30, 5.687706040223949), (97, 5.687706040223949), (49, 5.718391382198319), (47, 5.727128425310541), (115, 5.754128952326321), (27, 5.762811813689564), (105, 5.779273310719955), (15, 5.790509476721371), (43, 5.808614292583043), (62, 5.8206528843421), (96, 5.827520913733386), (9, 5.837807807730569), (8, 5.849786320883866), (102, 5.853204250664759), (55, 5.857473858242988), (79, 5.8898217290508885), (7, 5.901694671871801), (116, 5.908468498688979), (37, 5.911006682452659), (114, 5.913543776789007), (90, 5.919459434779497), (12, 5.9262129560116215), (107, 5.940538696111658), (98, 5.942221806698232), (41, 5.954829972383762), (92, 5.954829972383762), (84, 5.961543424315552), (74, 5.96322060635023), (58, 5.964897316802696), (16, 5.9715994507334464), (32, 5.979966555090422), (66, 6.004997918400971), (83, 6.027437266367855), (67, 6.037383539249432), (28, 6.039039658753699), (17, 6.04400529450463), (42, 6.048140210014976), (93, 6.04979338490167), (4, 6.06217782649107), (65, 6.085228015448559), (22, 6.1139185470531086), (103, 6.118006211176971), (36, 6.135959582656978), (106, 6.17008914036094), (87, 6.180614856144977), (39, 6.199193495931548), (48, 6.230569797378086), (76, 6.240192304729078), (52, 6.24099351065197), (50, 6.252999280345393), (78, 6.274551776820397), (25, 6.285698051927088), (64, 6.300793600809346), (113, 6.308724118235002), (0, 6.311101330195863), (91, 6.315853069855251), (14, 6.331666447310692), (99, 6.332456079595025), (59, 6.33798075099633), (95, 6.380438856379709), (3, 6.4054664154923175), (13, 6.4093681435848255), (26, 6.420280367709809), (53, 6.4389440128021), (24, 6.48228354825674), (72, 6.487680633323437), (109, 6.5069193939989765), (60, 6.513063795173513), (100, 6.545227268781429), (45, 6.558963332722634), (20, 6.5620118866091675), (75, 6.581793068761733), (94, 6.612110101926616), (70, 6.65432190384565), (85, 6.670832032063167), (5, 6.687301398920195), (101, 6.714164132637808), (11, 6.737210105080589), (46, 6.77347768875044), (2, 6.810286337592569), (77, 6.813956266369781), (38, 6.862215385719105), (19, 7.087312607751968), (112, 7.270488291717414), (104, 7.3293928807234785), (33, 7.457881736793632), (54, 7.818567643756751), (110, 7.9511005527536875), (68, 7.959271323431562), (51, 8.065977932030313), (31, 8.149233092751736)]\n"
     ]
    }
   ],
   "source": [
    "print(sorted_d)"
   ]
  },
  {
   "cell_type": "code",
   "execution_count": 53,
   "metadata": {},
   "outputs": [
    {
     "name": "stdout",
     "output_type": "stream",
     "text": [
      "[118, 73, 86]\n"
     ]
    }
   ],
   "source": [
    "k=3\n",
    "neighbors=[]\n",
    "for i in range(k):\n",
    "    neighbors.append(sorted_d[i][0])\n",
    "print(neighbors)"
   ]
  },
  {
   "cell_type": "code",
   "execution_count": 54,
   "metadata": {},
   "outputs": [
    {
     "name": "stdout",
     "output_type": "stream",
     "text": [
      "[1, 1, 1]\n"
     ]
    }
   ],
   "source": [
    "classes=[ y_train[i] for i in neighbors]\n",
    "print(classes)"
   ]
  },
  {
   "cell_type": "code",
   "execution_count": 55,
   "metadata": {},
   "outputs": [
    {
     "name": "stdout",
     "output_type": "stream",
     "text": [
      "Counter({1: 3})\n"
     ]
    }
   ],
   "source": [
    "count=Counter(classes)\n",
    "print(count)"
   ]
  },
  {
   "cell_type": "code",
   "execution_count": 56,
   "metadata": {},
   "outputs": [
    {
     "name": "stdout",
     "output_type": "stream",
     "text": [
      "keys= [1]\n",
      "values= [3]\n"
     ]
    }
   ],
   "source": [
    "keys= list( count.keys() )\n",
    "print('keys=', keys)\n",
    "values=list( count.values() )\n",
    "print('values=',values)"
   ]
  },
  {
   "cell_type": "code",
   "execution_count": 57,
   "metadata": {},
   "outputs": [
    {
     "name": "stdout",
     "output_type": "stream",
     "text": [
      "index of max value= 0\n",
      "predict class= 1\n"
     ]
    }
   ],
   "source": [
    "index_of_max_values=values.index(max(values)) \n",
    "print('index of max value=', index_of_max_values)\n",
    "y_hat=keys[index_of_max_values]\n",
    "print('predict class=',y_hat)"
   ]
  },
  {
   "cell_type": "code",
   "execution_count": null,
   "metadata": {},
   "outputs": [],
   "source": []
  },
  {
   "cell_type": "code",
   "execution_count": null,
   "metadata": {},
   "outputs": [],
   "source": []
  }
 ],
 "metadata": {
  "kernelspec": {
   "display_name": "Python 3",
   "language": "python",
   "name": "python3"
  },
  "language_info": {
   "codemirror_mode": {
    "name": "ipython",
    "version": 3
   },
   "file_extension": ".py",
   "mimetype": "text/x-python",
   "name": "python",
   "nbconvert_exporter": "python",
   "pygments_lexer": "ipython3",
   "version": "3.7.1"
  }
 },
 "nbformat": 4,
 "nbformat_minor": 2
}
